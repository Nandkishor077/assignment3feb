{
 "cells": [
  {
   "cell_type": "code",
   "execution_count": null,
   "id": "18f4cfcc-6789-40ad-8b9b-cb9a8a7e028d",
   "metadata": {},
   "outputs": [],
   "source": [
    "Q1. Which keyword is used to create a function? Create a function to return a list of odd numbers in the\n",
    "range of 1 to 25.\n"
   ]
  },
  {
   "cell_type": "code",
   "execution_count": null,
   "id": "105503dd-753a-49a2-853b-83633db50f43",
   "metadata": {},
   "outputs": [],
   "source": [
    "ans. 'def' keyword is uded to create a function in python.\n"
   ]
  },
  {
   "cell_type": "code",
   "execution_count": null,
   "id": "03da17f8-3dd9-464b-9409-34d9635d8bc1",
   "metadata": {
    "tags": []
   },
   "outputs": [],
   "source": [
    "def test_fun():\n",
    "    for i in range(1,26):\n",
    "        if i%2!=0:\n",
    "            print(i)\n",
    "            \n",
    "test_fun()\n",
    "       "
   ]
  },
  {
   "cell_type": "code",
   "execution_count": null,
   "id": "581db40e-b0bf-4f54-bdcc-5c3c32a7e677",
   "metadata": {},
   "outputs": [],
   "source": [
    "Q2. Why *args and **kwargs is used in some functions? Create a function each for *args and **kwargs\n",
    "to demonstrate their use."
   ]
  },
  {
   "cell_type": "code",
   "execution_count": null,
   "id": "991d3197-893f-4a3f-9e7c-29d9c7ccf912",
   "metadata": {},
   "outputs": [],
   "source": [
    "ans. *args and **kwargs are used as  parameter in functions when we don't know the about exact numbers of arguments  \n",
    "to be passed in a function for example:\n"
   ]
  },
  {
   "cell_type": "code",
   "execution_count": null,
   "id": "5da3d2e5-7b83-4414-bb22-82abd0fafbdd",
   "metadata": {
    "collapsed": true,
    "jupyter": {
     "outputs_hidden": true
    },
    "tags": []
   },
   "outputs": [],
   "source": [
    "def test_fun1(*args):\n",
    "    for arg in args:\n",
    "        print(arg)\n",
    "        \n",
    "test_fun1(\"ram \", \"shyam \",\"rahul\")\n"
   ]
  },
  {
   "cell_type": "code",
   "execution_count": null,
   "id": "3eeee8eb-40e9-4234-af86-91fb639689a2",
   "metadata": {
    "tags": []
   },
   "outputs": [],
   "source": [
    "def test_fun2(**kwargs):\n",
    "    print(kwargs)\n",
    "test_fun2(one=1,two=2,three=3)"
   ]
  },
  {
   "cell_type": "code",
   "execution_count": null,
   "id": "8c685304-e27f-4310-8570-fccd5d603c48",
   "metadata": {},
   "outputs": [],
   "source": [
    "Q3. What is an iterator in python? Name the method used to initialise the iterator object and the method\n",
    "used for iteration. Use these methods to print the first five elements of the given list [2, 4, 6, 8, 10, 12, 14,\n",
    "16, 18, 20].\n",
    "\n",
    "Ans. Iterator is an object in python language used to iterator or traverse over iterable objects like lists, tuples,\n",
    "dcitionary ,set . \n",
    "Iterator uses iter() method to initialise .\n",
    "Iterator uses next() method for iteration.\n"
   ]
  },
  {
   "cell_type": "code",
   "execution_count": null,
   "id": "c2dab00f-2a3e-4238-b30d-f16e88cdcd86",
   "metadata": {
    "collapsed": true,
    "jupyter": {
     "outputs_hidden": true
    },
    "tags": []
   },
   "outputs": [],
   "source": [
    "l=[2,4,6,8,10,12,14,16,18,20]\n",
    "my_iter = iter(l)\n",
    "for i in range(0,5): \n",
    "    print(next(my_iter))"
   ]
  },
  {
   "cell_type": "code",
   "execution_count": null,
   "id": "8f1dab52-3767-4611-a52a-95e5e7fa3986",
   "metadata": {},
   "outputs": [],
   "source": [
    "Q4. What is a generator function in python? Why yield keyword is used? Give an example of a generator\n",
    "function.\n",
    "\n",
    "Ans. A generator function is used in python to generate a value , unlike other function generator does not return a \n",
    "value instead it uses 'yield' keyword to give a value\n"
   ]
  },
  {
   "cell_type": "code",
   "execution_count": null,
   "id": "176d11cc-4d24-472f-a090-067918155e46",
   "metadata": {
    "collapsed": true,
    "jupyter": {
     "outputs_hidden": true
    },
    "tags": []
   },
   "outputs": [],
   "source": [
    "def table(n):\n",
    "    for i in range(1,11):\n",
    "        yield n*i\n",
    "        i=i+1\n",
    "        \n",
    "for i in table(5):\n",
    "    print(i)"
   ]
  },
  {
   "cell_type": "code",
   "execution_count": null,
   "id": "b88e30f0-6eb5-485b-b49b-c9a27eb24e71",
   "metadata": {},
   "outputs": [],
   "source": [
    "Q5. Create a generator function for prime numbers less than 1000. Use the next() method to print the\n",
    "first 20 prime numbers.\n",
    "Ans."
   ]
  },
  {
   "cell_type": "code",
   "execution_count": null,
   "id": "5d28d9d7-bfe9-43b8-b8b2-b3181f0e517c",
   "metadata": {
    "collapsed": true,
    "jupyter": {
     "outputs_hidden": true
    },
    "tags": []
   },
   "outputs": [],
   "source": [
    "def prime(x, y):\n",
    "   \n",
    "    for i in range(x, y):\n",
    "        if i == 0 or i == 1:\n",
    "            continue\n",
    "        else:\n",
    "            for j in range(2, int(i/2)+1):\n",
    "                if i % j == 0:\n",
    "                    break\n",
    "            else:\n",
    "                yield i\n",
    "    \n",
    " \n",
    "\n",
    "lst = iter(prime(2,1000))\n",
    "for i in range(1,20):\n",
    "    print(next(lst))\n"
   ]
  },
  {
   "cell_type": "code",
   "execution_count": null,
   "id": "d07b462d-5baf-412b-a034-0bb214496268",
   "metadata": {},
   "outputs": [],
   "source": [
    "Q6. Write a python program to print the first 10 Fibonacci numbers using a while loop."
   ]
  },
  {
   "cell_type": "code",
   "execution_count": null,
   "id": "c2fc780d-563f-4594-8679-7f7a79a706d4",
   "metadata": {
    "collapsed": true,
    "jupyter": {
     "outputs_hidden": true
    },
    "tags": []
   },
   "outputs": [],
   "source": [
    "\n",
    "def fib():\n",
    "    a=0\n",
    "    b=1\n",
    "    count=0\n",
    "    while count< 10:\n",
    "        print(a)\n",
    "        c=a + b\n",
    "        a=b\n",
    "        b=c\n",
    "        count=count+1\n",
    "        \n",
    "         \n",
    "fib()"
   ]
  },
  {
   "cell_type": "code",
   "execution_count": null,
   "id": "21726505-41e9-4bef-bb3b-c41b6e63be2f",
   "metadata": {},
   "outputs": [],
   "source": [
    "Q7. Write a List Comprehension to iterate through the given string: ‘pwskills’.\n",
    "Expected output: ['p', 'w', 's', 'k', 'i', 'l', 'l', 's']"
   ]
  },
  {
   "cell_type": "code",
   "execution_count": null,
   "id": "2f19ad52-4e96-46e0-98a8-670797ab4519",
   "metadata": {
    "tags": []
   },
   "outputs": [],
   "source": [
    "str1 = 'pwskills'\n",
    "lst= [x for x in str1 ]\n",
    "print(lst)"
   ]
  },
  {
   "cell_type": "code",
   "execution_count": null,
   "id": "0d542505-c6a9-4d6c-9b96-c3028fca8877",
   "metadata": {},
   "outputs": [],
   "source": [
    "Q8. Write a python program to check whether a given number is Palindrome or not using a while loop."
   ]
  },
  {
   "cell_type": "code",
   "execution_count": null,
   "id": "749469af-f6a4-4c84-a408-bb41b938dc7f",
   "metadata": {
    "tags": []
   },
   "outputs": [],
   "source": [
    "num = int(input(\"enter a number\"))\n",
    "\n",
    "temp=num\n",
    "dig=0\n",
    "rev=0\n",
    "while num>0:\n",
    "    dig=num%10\n",
    "    rev = rev*10+dig\n",
    "    num= num//10\n",
    "if(temp==rev):\n",
    "    print(\"the number is palindromE\")\n",
    "else:\n",
    "    print(\"the number is not a palindrome\")\n",
    "    \n",
    "    "
   ]
  },
  {
   "cell_type": "code",
   "execution_count": null,
   "id": "1dccc42e-5188-4a3c-8bd8-b7a98af39e84",
   "metadata": {},
   "outputs": [],
   "source": [
    "Q9. Write a code to print odd numbers from 1 to 100 using list comprehension."
   ]
  },
  {
   "cell_type": "code",
   "execution_count": null,
   "id": "5f458798-f2fc-4657-b3a5-4b6c7e234df8",
   "metadata": {
    "collapsed": true,
    "jupyter": {
     "outputs_hidden": true
    },
    "tags": []
   },
   "outputs": [],
   "source": [
    "list1 = [x for x in range(1,101)]\n",
    "list2 = [x for x in list1 if x%2==1]\n",
    "list2"
   ]
  },
  {
   "cell_type": "code",
   "execution_count": null,
   "id": "a0ae041f-f0bc-492a-819d-b9de8eb1e2d3",
   "metadata": {},
   "outputs": [],
   "source": []
  }
 ],
 "metadata": {
  "kernelspec": {
   "display_name": "Python 3 (ipykernel)",
   "language": "python",
   "name": "python3"
  },
  "language_info": {
   "codemirror_mode": {
    "name": "ipython",
    "version": 3
   },
   "file_extension": ".py",
   "mimetype": "text/x-python",
   "name": "python",
   "nbconvert_exporter": "python",
   "pygments_lexer": "ipython3",
   "version": "3.10.8"
  }
 },
 "nbformat": 4,
 "nbformat_minor": 5
}
