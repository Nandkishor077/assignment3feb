{
 "cells": [
  {
   "cell_type": "markdown",
   "id": "ab411f28-149a-4547-97db-c3682dfd615a",
   "metadata": {},
   "source": [
    "Q1. Which keyword is used to create a function? Create a function to return a list of odd numbers in the\n",
    "range of 1 to 25.\n"
   ]
  },
  {
   "cell_type": "markdown",
   "id": "c7d2310d-d381-4910-9354-0e765a9d2d55",
   "metadata": {},
   "source": [
    "ans. 'def' keyword is uded to create a function in python.\n"
   ]
  },
  {
   "cell_type": "code",
   "execution_count": null,
   "id": "b83bd1de-cbb5-42fe-8a56-e5c6220514e4",
   "metadata": {
    "tags": []
   },
   "outputs": [],
   "source": [
    "def test_fun():\n",
    "    for i in range(1,26):\n",
    "        if i%2!=0:\n",
    "            print(i)\n",
    "            \n",
    "test_fun()\n",
    "       "
   ]
  },
  {
   "cell_type": "markdown",
   "id": "c0406690-bf9a-4683-88b8-59d738705ef2",
   "metadata": {},
   "source": [
    "Q2. Why *args and **kwargs is used in some functions? Create a function each for *args and **kwargs\n",
    "to demonstrate their use."
   ]
  },
  {
   "cell_type": "raw",
   "id": "eccb96ee-1de1-4925-9471-2e34beb0f0f1",
   "metadata": {},
   "source": [
    "ans. *args and **kwargs are used as  parameter in functions when we don't know the about exact numbers of arguments  \n",
    "to be passed in a function for example:\n"
   ]
  },
  {
   "cell_type": "code",
   "execution_count": null,
   "id": "f0cf72f4-1b04-47a2-8c1f-e142f88cc0e3",
   "metadata": {
    "collapsed": true,
    "jupyter": {
     "outputs_hidden": true
    },
    "tags": []
   },
   "outputs": [
    {
     "name": "stdout",
     "output_type": "stream",
     "text": [
      "ram \n",
      "shyam \n",
      "rahul\n"
     ]
    }
   ],
   "source": [
    "def test_fun1(*args):\n",
    "    for arg in args:\n",
    "        print(arg)\n",
    "        \n",
    "test_fun1(\"ram \", \"shyam \",\"rahul\")\n"
   ]
  },
  {
   "cell_type": "code",
   "execution_count": 2,
   "id": "03f44efb-0b46-4a48-a85d-6b3c73b7a518",
   "metadata": {
    "tags": []
   },
   "outputs": [
    {
     "name": "stdout",
     "output_type": "stream",
     "text": [
      "{'one': 1, 'two': 2, 'three': 3}\n"
     ]
    }
   ],
   "source": [
    "def test_fun2(**kwargs):\n",
    "    print(kwargs)\n",
    "test_fun2(one=1,two=2,three=3)"
   ]
  },
  {
   "cell_type": "raw",
   "id": "14896c53-30f5-4f4a-802e-08144331e06b",
   "metadata": {},
   "source": [
    "Q3. What is an iterator in python? Name the method used to initialise the iterator object and the method\n",
    "used for iteration. Use these methods to print the first five elements of the given list [2, 4, 6, 8, 10, 12, 14,\n",
    "16, 18, 20].\n",
    "\n",
    "Ans. Iterator is an object in python language used to iterator or traverse over iterable objects like lists, tuples,\n",
    "dcitionary ,set . \n",
    "Iterator uses iter() method to initialise .\n",
    "Iterator uses next() method for iteration.\n"
   ]
  },
  {
   "cell_type": "code",
   "execution_count": 4,
   "id": "8cb88b23-c03a-47e3-9b4c-79f67a4df74a",
   "metadata": {
    "collapsed": true,
    "jupyter": {
     "outputs_hidden": true
    },
    "tags": []
   },
   "outputs": [
    {
     "name": "stdout",
     "output_type": "stream",
     "text": [
      "2\n",
      "4\n",
      "6\n",
      "8\n",
      "10\n"
     ]
    }
   ],
   "source": [
    "l=[2,4,6,8,10,12,14,16,18,20]\n",
    "my_iter = iter(l)\n",
    "for i in range(0,5): \n",
    "    print(next(my_iter))"
   ]
  },
  {
   "cell_type": "raw",
   "id": "42271086-8421-4a0f-a694-2e7f64db03dc",
   "metadata": {},
   "source": [
    "Q4. What is a generator function in python? Why yield keyword is used? Give an example of a generator\n",
    "function.\n",
    "\n",
    "Ans. A generator function is used in python to generate a value , unlike other function generator does not return a \n",
    "value instead it uses 'yield' keyword to give a value\n"
   ]
  },
  {
   "cell_type": "code",
   "execution_count": 9,
   "id": "3c0d4a3e-9290-40d2-be6f-1dc5b43a6630",
   "metadata": {
    "collapsed": true,
    "jupyter": {
     "outputs_hidden": true
    },
    "tags": []
   },
   "outputs": [
    {
     "name": "stdout",
     "output_type": "stream",
     "text": [
      "5\n",
      "10\n",
      "15\n",
      "20\n",
      "25\n",
      "30\n",
      "35\n",
      "40\n",
      "45\n",
      "50\n"
     ]
    }
   ],
   "source": [
    "def table(n):\n",
    "    for i in range(1,11):\n",
    "        yield n*i\n",
    "        i=i+1\n",
    "        \n",
    "for i in table(5):\n",
    "    print(i)"
   ]
  },
  {
   "cell_type": "raw",
   "id": "5b2bdc4b-95b7-497a-bbac-cf80c0f000e5",
   "metadata": {},
   "source": [
    "Q5. Create a generator function for prime numbers less than 1000. Use the next() method to print the\n",
    "first 20 prime numbers.\n",
    "Ans."
   ]
  },
  {
   "cell_type": "code",
   "execution_count": 8,
   "id": "760f5ec7-12e4-4d8f-accf-0de2a2ab6f03",
   "metadata": {
    "collapsed": true,
    "jupyter": {
     "outputs_hidden": true
    },
    "tags": []
   },
   "outputs": [
    {
     "name": "stdout",
     "output_type": "stream",
     "text": [
      "2\n",
      "3\n",
      "5\n",
      "7\n",
      "11\n",
      "13\n",
      "17\n",
      "19\n",
      "23\n",
      "29\n",
      "31\n",
      "37\n",
      "41\n",
      "43\n",
      "47\n",
      "53\n",
      "59\n",
      "61\n",
      "67\n"
     ]
    }
   ],
   "source": [
    "def prime(x, y):\n",
    "   \n",
    "    for i in range(x, y):\n",
    "        if i == 0 or i == 1:\n",
    "            continue\n",
    "        else:\n",
    "            for j in range(2, int(i/2)+1):\n",
    "                if i % j == 0:\n",
    "                    break\n",
    "            else:\n",
    "                yield i\n",
    "    \n",
    " \n",
    "\n",
    "lst = iter(prime(2,1000))\n",
    "for i in range(1,20):\n",
    "    print(next(lst))\n"
   ]
  },
  {
   "cell_type": "raw",
   "id": "4615dae8-6239-4bd0-9d3a-1b6a2f7aca0d",
   "metadata": {},
   "source": [
    "Q6. Write a python program to print the first 10 Fibonacci numbers using a while loop."
   ]
  },
  {
   "cell_type": "code",
   "execution_count": 24,
   "id": "8f57c2c0-9056-4f5a-b343-6e688856d600",
   "metadata": {
    "collapsed": true,
    "jupyter": {
     "outputs_hidden": true
    },
    "tags": []
   },
   "outputs": [
    {
     "name": "stdout",
     "output_type": "stream",
     "text": [
      "0\n",
      "1\n",
      "1\n",
      "2\n",
      "3\n",
      "5\n",
      "8\n",
      "13\n",
      "21\n",
      "34\n"
     ]
    }
   ],
   "source": [
    "\n",
    "def fib():\n",
    "    a=0\n",
    "    b=1\n",
    "    count=0\n",
    "    while count< 10:\n",
    "        print(a)\n",
    "        c=a + b\n",
    "        a=b\n",
    "        b=c\n",
    "        count=count+1\n",
    "        \n",
    "         \n",
    "fib()"
   ]
  },
  {
   "cell_type": "raw",
   "id": "5d5d4fa5-4b5a-4579-8ee9-7b89e3ee1309",
   "metadata": {},
   "source": [
    "Q7. Write a List Comprehension to iterate through the given string: ‘pwskills’.\n",
    "Expected output: ['p', 'w', 's', 'k', 'i', 'l', 'l', 's']"
   ]
  },
  {
   "cell_type": "code",
   "execution_count": 26,
   "id": "0e91c103-f412-4f5c-92a2-558a74a98dfb",
   "metadata": {
    "tags": []
   },
   "outputs": [
    {
     "name": "stdout",
     "output_type": "stream",
     "text": [
      "['p', 'w', 's', 'k', 'i', 'l', 'l', 's']\n"
     ]
    }
   ],
   "source": [
    "str1 = 'pwskills'\n",
    "lst= [x for x in str1 ]\n",
    "print(lst)"
   ]
  },
  {
   "cell_type": "raw",
   "id": "db7e830f-6f21-4743-a809-761921e23f2b",
   "metadata": {},
   "source": [
    "Q8. Write a python program to check whether a given number is Palindrome or not using a while loop."
   ]
  },
  {
   "cell_type": "code",
   "execution_count": 30,
   "id": "99cdbd66-a0f4-484e-baea-e69733b8257b",
   "metadata": {
    "tags": []
   },
   "outputs": [
    {
     "name": "stdin",
     "output_type": "stream",
     "text": [
      "enter a number 12321\n"
     ]
    },
    {
     "name": "stdout",
     "output_type": "stream",
     "text": [
      "the number is palindromE\n"
     ]
    }
   ],
   "source": [
    "num = int(input(\"enter a number\"))\n",
    "\n",
    "temp=num\n",
    "dig=0\n",
    "rev=0\n",
    "while num>0:\n",
    "    dig=num%10\n",
    "    rev = rev*10+dig\n",
    "    num= num//10\n",
    "if(temp==rev):\n",
    "    print(\"the number is palindromE\")\n",
    "else:\n",
    "    print(\"the number is not a palindrome\")\n",
    "    \n",
    "    "
   ]
  },
  {
   "cell_type": "raw",
   "id": "2c86fbe4-4363-476f-81ab-0f2c3db268b9",
   "metadata": {},
   "source": [
    "Q9. Write a code to print odd numbers from 1 to 100 using list comprehension."
   ]
  },
  {
   "cell_type": "code",
   "execution_count": 33,
   "id": "0e09a09d-912d-4e4c-b9ff-c2849db6d2b2",
   "metadata": {
    "collapsed": true,
    "jupyter": {
     "outputs_hidden": true
    },
    "tags": []
   },
   "outputs": [
    {
     "data": {
      "text/plain": [
       "[1,\n",
       " 3,\n",
       " 5,\n",
       " 7,\n",
       " 9,\n",
       " 11,\n",
       " 13,\n",
       " 15,\n",
       " 17,\n",
       " 19,\n",
       " 21,\n",
       " 23,\n",
       " 25,\n",
       " 27,\n",
       " 29,\n",
       " 31,\n",
       " 33,\n",
       " 35,\n",
       " 37,\n",
       " 39,\n",
       " 41,\n",
       " 43,\n",
       " 45,\n",
       " 47,\n",
       " 49,\n",
       " 51,\n",
       " 53,\n",
       " 55,\n",
       " 57,\n",
       " 59,\n",
       " 61,\n",
       " 63,\n",
       " 65,\n",
       " 67,\n",
       " 69,\n",
       " 71,\n",
       " 73,\n",
       " 75,\n",
       " 77,\n",
       " 79,\n",
       " 81,\n",
       " 83,\n",
       " 85,\n",
       " 87,\n",
       " 89,\n",
       " 91,\n",
       " 93,\n",
       " 95,\n",
       " 97,\n",
       " 99]"
      ]
     },
     "execution_count": 33,
     "metadata": {},
     "output_type": "execute_result"
    }
   ],
   "source": [
    "list1 = [x for x in range(1,101)]\n",
    "list2 = [x for x in list1 if x%2==1]\n",
    "list2"
   ]
  },
  {
   "cell_type": "code",
   "execution_count": null,
   "id": "066d0b7c-9cbb-451f-91ae-4d6406fc1946",
   "metadata": {},
   "outputs": [],
   "source": []
  }
 ],
 "metadata": {
  "kernelspec": {
   "display_name": "Python 3 (ipykernel)",
   "language": "python",
   "name": "python3"
  },
  "language_info": {
   "codemirror_mode": {
    "name": "ipython",
    "version": 3
   },
   "file_extension": ".py",
   "mimetype": "text/x-python",
   "name": "python",
   "nbconvert_exporter": "python",
   "pygments_lexer": "ipython3",
   "version": "3.10.8"
  }
 },
 "nbformat": 4,
 "nbformat_minor": 5
}
